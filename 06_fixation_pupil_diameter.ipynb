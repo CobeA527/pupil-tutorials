{
 "cells": [
  {
   "cell_type": "markdown",
   "metadata": {},
   "source": [
    "# Tutorial 06 - Pupil Diameter By Fixation On Surface\n",
    "In this tutorial we will look at how to calculate the mean pupil diameter for each fixation on a given surface.\n",
    "We will follow these steps:\n",
    "1. Define the necessary file paths\n",
    "1. Load the data using `Pandas`.\n",
    "1. Select required columns\n",
    "1. Group fixations by id\n",
    "1. Extract pupil data for each fixation\n",
    "1. Calculate mean pupil diameter for based on the extracted pupil data\n",
    "\n",
    "To re-execute this notebook, please download the [sample recording](https://drive.google.com/file/d/1vzjZkjoi8kESw8lBnsa_k_8hXPf3fMMC/view?usp=sharing) for Pupil Player, unpack it and place it inside the `recordings` directory.\n",
    "\n",
    "## 1 - Define the necessary file paths\n",
    "Let's start by importing the necessary Python modules and defining the necessary file paths."
   ]
  },
  {
   "cell_type": "code",
   "execution_count": 1,
   "metadata": {},
   "outputs": [],
   "source": [
    "import pathlib\n",
    "\n",
    "import numpy as np\n",
    "import pandas as pd\n",
    "import seaborn as sns\n",
    "sns.set(context=\"notebook\", style=\"whitegrid\", font_scale=1.2)\n",
    "\n",
    "import matplotlib.pyplot as plt\n",
    "import matplotlib.colors as colors\n",
    "%matplotlib inline"
   ]
  },
  {
   "cell_type": "code",
   "execution_count": 2,
   "metadata": {},
   "outputs": [
    {
     "name": "stdout",
     "output_type": "stream",
     "text": [
      "Necessary files:\n",
      "recordings/sample_recording_v2/exports/000/pupil_positions.csv\n",
      "recordings/sample_recording_v2/exports/000/surfaces/fixations_on_surface_Spread Text.csv\n"
     ]
    }
   ],
   "source": [
    "surface_name = \"Spread Text\"\n",
    "\n",
    "recording = pathlib.Path(\"recordings\") / \"sample_recording_v2\"\n",
    "export_dir = recording / \"exports\" / \"000\"\n",
    "surface_dir = export_dir / \"surfaces\"\n",
    "\n",
    "pupil_positions_file = export_dir / \"pupil_positions.csv\"\n",
    "fixations_on_surface_file = surface_dir / f\"fixations_on_surface_{surface_name}.csv\"\n",
    "\n",
    "print(\"Necessary files:\")\n",
    "print(pupil_positions_file)\n",
    "print(fixations_on_surface_file)"
   ]
  },
  {
   "cell_type": "markdown",
   "metadata": {},
   "source": [
    "## 2 - Load the data using `Pandas`\n",
    "In the next steps we use the [Pandas](https://pypi.org/project/pandas/) project to load and filter the data.\n"
   ]
  },
  {
   "cell_type": "code",
   "execution_count": 3,
   "metadata": {},
   "outputs": [],
   "source": [
    "pupil_positions = pd.read_csv(pupil_positions_file)\n",
    "fixations_on_surface = pd.read_csv(fixations_on_surface_file)\n",
    "\n",
    "# we are only interested in 3D pupil data\n",
    "pupil_positions = pupil_positions[pupil_positions.method == \"3d c++\"]"
   ]
  },
  {
   "cell_type": "markdown",
   "metadata": {},
   "source": [
    "## 3 - Select required columns\n",
    "We only need a subset of the loaded columns:\n",
    "- `pupil_positions.csv`\n",
    "    - `pupil_timestamp`: Used for temporal correlation with fixations\n",
    "    - `diameter_3d`: Used for aggregation to diameter mean\n",
    "    - `confidence`: Used to filter low confidence data\n",
    "- `fixations_on_surface_<surface name>.csv`:\n",
    "    - `fixation_id`: Used to group fixations by id (see the [v1.15 release notes](https://github.com/pupil-labs/pupil/releases/tag/v1.15) on the reason for duplicated entries)\n",
    "    - `start_timestamp`: Used for temporal correlation with pupil positions\n",
    "    - `duration`: In ms, used for temporal correlation with pupil positions\n",
    "    - `on_surf`: Used to filter fixations that are not positioned on the selected surface"
   ]
  },
  {
   "cell_type": "code",
   "execution_count": 4,
   "metadata": {},
   "outputs": [
    {
     "name": "stdout",
     "output_type": "stream",
     "text": [
      "<class 'pandas.core.frame.DataFrame'>\n",
      "Int64Index: 31971 entries, 0 to 31970\n",
      "Data columns (total 3 columns):\n",
      " #   Column           Non-Null Count  Dtype  \n",
      "---  ------           --------------  -----  \n",
      " 0   pupil_timestamp  31971 non-null  float64\n",
      " 1   diameter_3d      31971 non-null  float64\n",
      " 2   confidence       31971 non-null  float64\n",
      "dtypes: float64(3)\n",
      "memory usage: 999.1 KB\n",
      "\n",
      "<class 'pandas.core.frame.DataFrame'>\n",
      "RangeIndex: 1650 entries, 0 to 1649\n",
      "Data columns (total 4 columns):\n",
      " #   Column           Non-Null Count  Dtype  \n",
      "---  ------           --------------  -----  \n",
      " 0   fixation_id      1650 non-null   int64  \n",
      " 1   start_timestamp  1650 non-null   float64\n",
      " 2   duration         1650 non-null   float64\n",
      " 3   on_surf          1650 non-null   bool   \n",
      "dtypes: bool(1), float64(2), int64(1)\n",
      "memory usage: 40.4 KB\n"
     ]
    }
   ],
   "source": [
    "pupil_positions = pupil_positions[[\"pupil_timestamp\", \"diameter_3d\", \"confidence\"]]\n",
    "fixations_on_surface = fixations_on_surface[[\"fixation_id\", \"start_timestamp\", \"duration\", \"on_surf\"]]\n",
    "\n",
    "pupil_positions.info()\n",
    "print()\n",
    "fixations_on_surface.info()"
   ]
  },
  {
   "cell_type": "markdown",
   "metadata": {},
   "source": [
    "## 4 - Data processing\n",
    "\n",
    "1. Group fixations by id\n",
    "1. Extract pupil data for each fixation\n",
    "    1. Check if fixation was on surface\n",
    "    1. Calculate start and end point of each fixation\n",
    "    1. Select all pupil data that lies between start and end point of each fixation\n",
    "    1. Remove low confidence data\n",
    "1. Calculate mean pupil diameter for based on the extracted pupil data"
   ]
  },
  {
   "cell_type": "code",
   "execution_count": 5,
   "metadata": {},
   "outputs": [],
   "source": [
    "MIN_CONFIDENCE = 0.8\n",
    "\n",
    "results = []\n",
    "\n",
    "for _, fixations in fixations_on_surface.groupby(\"fixation_id\"):  # group fixations by id\n",
    "    first_fixation = fixations.iloc[0]\n",
    "    if not first_fixation.on_surf:\n",
    "        continue  # skip fixation since it is not on the surface\n",
    "\n",
    "    # calculate start and end point\n",
    "    fixation_id = first_fixation.fixation_id\n",
    "    fixation_start = first_fixation.start_timestamp\n",
    "    fixation_end = fixation_start + first_fixation.duration / 1000  # duration is in ms\n",
    "    \n",
    "    # boolean masks to filter pupil positions\n",
    "    mask_after_start = fixation_start <= pupil_positions.pupil_timestamp\n",
    "    mask_before_end = pupil_positions.pupil_timestamp <= fixation_end\n",
    "    mask_high_confidence = pupil_positions.confidence >= MIN_CONFIDENCE\n",
    "\n",
    "    # Extract pupil data for each fixation\n",
    "    pupil_positions_during_fixation = pupil_positions[mask_after_start & mask_before_end & mask_high_confidence]\n",
    "    diameter_3d_during_fixation = pupil_positions_during_fixation.diameter_3d\n",
    "    \n",
    "    # Calculate mean pupil diameter for based on the extracted pupil data\n",
    "    results.append([fixation_id, diameter_3d_during_fixation.mean()])\n",
    "\n",
    "# Create new data frame from results\n",
    "mean_diameter_3d_by_fixation = pd.DataFrame(results, columns=[\"fixation_id\", \"mean_pupil_diameter_3d\"])"
   ]
  },
  {
   "cell_type": "markdown",
   "metadata": {},
   "source": [
    "## 5 - Visualize results\n",
    "\n",
    "Below we plot the mean diameter for each fixation."
   ]
  },
  {
   "cell_type": "code",
   "execution_count": 6,
   "metadata": {},
   "outputs": [
    {
     "data": {
      "text/plain": [
       "Text(0, 0.5, 'mean diameter_3d [mm]')"
      ]
     },
     "execution_count": 6,
     "metadata": {},
     "output_type": "execute_result"
    },
    {
     "data": {
      "image/png": "[encoded data removed]",
      "text/plain": [
       "<Figure size 432x288 with 1 Axes>"
      ]
     },
     "metadata": {
      "needs_background": "light"
     },
     "output_type": "display_data"
    }
   ],
   "source": [
    "plt.scatter(mean_diameter_3d_by_fixation.fixation_id, mean_diameter_3d_by_fixation.mean_pupil_diameter_3d)\n",
    "plt.xlabel(\"fixation_id\")\n",
    "plt.ylabel(\"mean diameter_3d [mm]\")"
   ]
  }
 ],
 "metadata": {
  "kernelspec": {
   "display_name": "Python 3",
   "language": "python",
   "name": "python3"
  },
  "language_info": {
   "codemirror_mode": {
    "name": "ipython",
    "version": 3
   },
   "file_extension": ".py",
   "mimetype": "text/x-python",
   "name": "python",
   "nbconvert_exporter": "python",
   "pygments_lexer": "ipython3",
   "version": "3.7.7"
  }
 },
 "nbformat": 4,
 "nbformat_minor": 4
}
