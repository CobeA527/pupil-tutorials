{
 "cells": [
  {
   "cell_type": "markdown",
   "metadata": {},
   "source": [
    "# Tutorial 02 - Loading and Visualizing Exported Surface Data\n",
    "\n",
    "In this tutorial we will look at how to load surface data that was exported from Pupil Player into Python to generate aggregate heatmaps. We will follow these steps:\n",
    "\n",
    "1. Load the data using `Pandas`\n",
    "2. Visualize gaze data for 1 surface for 1 participant as a heatmap.\n",
    "3. Visualize gaze data for 1 surface for multiple participants as a heatmap.\n",
    "\n",
    "## 1 - Loading Exported Surface Data\n",
    "\n",
    "Let's begin by loading exported gaze data on a surface. The file will be named with the pattern `gaze_positions_on_surface_<your-surface-name>_<uid>.csv`"
   ]
  },
  {
   "cell_type": "code",
   "execution_count": 58,
   "metadata": {},
   "outputs": [
    {
     "name": "stdout",
     "output_type": "stream",
     "text": [
      "Columns present in exported gaze on surface data:\n",
      " Index(['world_timestamp', 'world_frame_idx', 'gaze_timestamp', 'x_norm',\n",
      "       'y_norm', 'x_scaled', 'y_scaled', 'on_srf', 'confidence'],\n",
      "      dtype='object')\n"
     ]
    }
   ],
   "source": [
    "import os\n",
    "import pandas as pd\n",
    "\n",
    "recording_location = '/home/pupil-labs/recordings/2019_02_13/001/'\n",
    "file_name = 'gaze_positions_on_surface_magazine_cover_1550027153.7953088.csv'\n",
    "exported_surface_csv = os.path.join(recording_location, 'exports', '001', 'surfaces', file_name)\n",
    "surface_pd_frame = pd.read_csv(exported_gaze_on_surface_csv)\n",
    "\n",
    "print(\"Columns present in exported gaze on surface data:\\n {}\".format(surface_pd_frame.columns))"
   ]
  },
  {
   "cell_type": "markdown",
   "metadata": {},
   "source": [
    "### Individual Datums\n",
    "\n",
    "As we can see the data frame contains only a few columns. Let's review what each column is used for:\n",
    "\n",
    "- `world_timestamp` - The world camera timestamp at which the sample was recorded.\n",
    "- `world_frame_idx` - The frame number of the world camera to which this sample is correlated.\n",
    "- `gaze_timestamp` - The timestamp of the gaze position which is correlated with this world frame (note that there can be many gaze positions per world frame due to higher sampling rate of eye cameras relative to world cameras)\n",
    "- `x_norm` - the normalized x position of the gaze relative to the surface. (0,0) is the bottom left corner of the surface; (1,1) is the top right corner of the surface. Note that coordinates outside of the 0-1 bounds are possible which means that the gaze is **not** on the surface. \n",
    "- `y_norm` - the normalized y position of the gaze relative to the surface.\n",
    "- `x_scaled` and `y_scaled` - the position of the gaze relative to the surface scaled relative to the specified size of the surface. The size is defined in Pupil Player or Pupil Capture. \n",
    "- `on_srf` - boolean value if gaze is within the bounds of the surface\n",
    "- `confidence` - confidence of the pupil detection\n",
    "\n",
    "Let's take a look at a few values from our sample surface data!\n"
   ]
  },
  {
   "cell_type": "code",
   "execution_count": 59,
   "metadata": {},
   "outputs": [
    {
     "name": "stdout",
     "output_type": "stream",
     "text": [
      "gaze on (magazine surface) data:\n",
      "      world_timestamp  world_frame_idx  gaze_timestamp  x_norm  y_norm  \\\n",
      "358       175528.836               21      175528.841   0.991   0.334   \n",
      "360       175528.836               21      175528.846   0.950   0.337   \n",
      "362       175528.836               21      175528.851   0.866   0.368   \n",
      "364       175528.836               21      175528.856   0.824   0.370   \n",
      "366       175528.836               21      175528.861   0.783   0.451   \n",
      "\n",
      "     x_scaled  y_scaled  on_srf  confidence  \n",
      "358   396.451   166.800    True       1.000  \n",
      "360   380.146   168.625    True       0.996  \n",
      "362   346.586   183.868    True       0.392  \n",
      "364   329.673   185.094    True       0.990  \n",
      "366   313.334   225.556    True       0.436  \n"
     ]
    }
   ],
   "source": [
    "gaze_on_srf = surface_pd_frame[surface_pd_frame.on_srf == True]\n",
    "pd.options.display.float_format = '{:.3f}'.format\n",
    "\n",
    "headers = surface_pd_frame.columns\n",
    "print(\"gaze on (magazine surface) data:\\n {}\".format(gaze_on_srf[headers][:5]))"
   ]
  },
  {
   "cell_type": "markdown",
   "metadata": {},
   "source": [
    "We could take this example further by filtering out low `confidence` pupil detection values:"
   ]
  },
  {
   "cell_type": "code",
   "execution_count": 60,
   "metadata": {},
   "outputs": [
    {
     "name": "stdout",
     "output_type": "stream",
     "text": [
      "gaze on (magazine surface) data:\n",
      "      world_timestamp  world_frame_idx  gaze_timestamp  x_norm  y_norm  \\\n",
      "358       175528.836               21      175528.841   0.991   0.334   \n",
      "360       175528.836               21      175528.846   0.950   0.337   \n",
      "364       175528.836               21      175528.856   0.824   0.370   \n",
      "449       175529.071               26      175529.083   0.988   0.549   \n",
      "450       175529.071               26      175529.085   0.930   0.581   \n",
      "\n",
      "     x_scaled  y_scaled  on_srf  confidence  \n",
      "358   396.451   166.800    True       1.000  \n",
      "360   380.146   168.625    True       0.996  \n",
      "364   329.673   185.094    True       0.990  \n",
      "449   395.045   274.474    True       0.998  \n",
      "450   372.167   290.370    True       0.997  \n"
     ]
    }
   ],
   "source": [
    "gaze_on_srf = surface_pd_frame[(surface_pd_frame.on_srf == True) & (surface_pd_frame.confidence > 0.8)]\n",
    "pd.options.display.float_format = '{:.3f}'.format\n",
    "\n",
    "headers = surface_pd_frame.columns\n",
    "print(\"gaze on (magazine surface) data:\\n {}\".format(gaze_on_srf[headers][:5]))"
   ]
  },
  {
   "cell_type": "markdown",
   "metadata": {},
   "source": [
    "## 2 - Visualize aggregate gaze on surface for single participant\n",
    "\n",
    "Now we visualize high confidence gaze data on this surface."
   ]
  },
  {
   "cell_type": "code",
   "execution_count": 75,
   "metadata": {},
   "outputs": [
    {
     "data": {
      "text/plain": [
       "<matplotlib.image.AxesImage at 0x7fdde0aff278>"
      ]
     },
     "execution_count": 75,
     "metadata": {},
     "output_type": "execute_result"
    },
    {
     "data": {
      "image/png": "[encoded data removed]",
      "text/plain": [
       "<Figure size 432x288 with 1 Axes>"
      ]
     },
     "metadata": {},
     "output_type": "display_data"
    }
   ],
   "source": [
    "import numpy as np\n",
    "import matplotlib.pyplot as plt\n",
    "from scipy.ndimage.filters import gaussian_filter\n",
    "\n",
    "grid = (500,400)\n",
    "heatmap_detail = 0.04\n",
    "gaze_x_scaled = gaze_on_srf['x_norm']\n",
    "gaze_y_scaled = gaze_on_srf['y_norm']\n",
    "\n",
    "hist, x_edges, y_edges = np.histogram2d(\n",
    "            gaze_y_scaled, gaze_x_scaled, range=[[0, 1.0], [0, 1.0]], normed=False, bins=grid)\n",
    "filter_h = int(heatmap_detail * grid[0]) // 2 * 2 + 1\n",
    "filter_w = int(heatmap_detail * grid[1]) // 2 * 2 + 1\n",
    "hist_max = hist.max()\n",
    "hist *= (255.0 / hist_max) if hist_max else 0.0\n",
    "\n",
    "plt.imshow(gaussian_filter(hist, sigma=(filter_w, filter_h), order=0), \n",
    "           interpolation=None, shape=grid, origin='lower', cmap='jet', alpha=1)"
   ]
  },
  {
   "cell_type": "markdown",
   "metadata": {},
   "source": [
    "## 3 - Visualize aggregate gaze on surface for multiple participants\n",
    "\n",
    "We will now repeat steps 1 and 2 from above but will load the same `surface` from multiple recordings/participants.\n",
    "\n",
    "<!-- this section is next todo after adding some more data !-->"
   ]
  }
 ],
 "metadata": {
  "kernelspec": {
   "display_name": "Python 3",
   "language": "python",
   "name": "python3"
  },
  "language_info": {
   "codemirror_mode": {
    "name": "ipython",
    "version": 3
   },
   "file_extension": ".py",
   "mimetype": "text/x-python",
   "name": "python",
   "nbconvert_exporter": "python",
   "pygments_lexer": "ipython3",
   "version": "3.6.7"
  }
 },
 "nbformat": 4,
 "nbformat_minor": 2
}
